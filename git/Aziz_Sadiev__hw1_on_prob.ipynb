{
 "cells": [
  {
   "cell_type": "code",
   "execution_count": 4,
   "id": "3c5a5600-dfd6-44ea-96f1-5a0ad84c5ea2",
   "metadata": {},
   "outputs": [
    {
     "name": "stdout",
     "output_type": "stream",
     "text": [
      "Задача 1: 0.07692307692307693\n",
      "Задача 2: 0.0625\n",
      "Задача 3: 0.99982141790983\n",
      "Задача 4: 0.15972222222222232\n",
      "Задача 5: 0.3076923076923077\n"
     ]
    }
   ],
   "source": [
    "# Задача 1: Вероятность вытащить туз из колоды карт\n",
    "print(\"Задача 1:\", 4 / 52)\n",
    "\n",
    "# Задача 2: Вероятность одинаковой группы крови у трёх человек (каждая группа крови 25%)\n",
    "print(\"Задача 2:\", 4 * (0.25 ** 3))\n",
    "\n",
    "# Задача 3: Вероятность хотя бы одного правильного ответа из 30 вопросов\n",
    "print(\"Задача 3:\", 1 - (0.75 ** 30))\n",
    "\n",
    "# Задача 4: Вероятность совпадения месяца рождения хотя бы у одного из двух человек\n",
    "print(\"Задача 4:\", 1 - ((11 / 12) ** 2))\n",
    "\n",
    "# Задача 5: Вероятность вытащить валета или пиковую карту\n",
    "print(\"Задача 5:\", (4 + 13 - 1) / 52)\n"
   ]
  },
  {
   "cell_type": "code",
   "execution_count": null,
   "id": "4d3aede2-8c8c-4e4e-852f-155153ea4895",
   "metadata": {},
   "outputs": [],
   "source": []
  }
 ],
 "metadata": {
  "kernelspec": {
   "display_name": "Python 3 (ipykernel)",
   "language": "python",
   "name": "python3"
  },
  "language_info": {
   "codemirror_mode": {
    "name": "ipython",
    "version": 3
   },
   "file_extension": ".py",
   "mimetype": "text/x-python",
   "name": "python",
   "nbconvert_exporter": "python",
   "pygments_lexer": "ipython3",
   "version": "3.12.7"
  }
 },
 "nbformat": 4,
 "nbformat_minor": 5
}
