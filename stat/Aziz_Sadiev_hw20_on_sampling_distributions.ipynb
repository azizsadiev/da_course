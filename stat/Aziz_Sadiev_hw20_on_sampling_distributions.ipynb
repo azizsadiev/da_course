{
 "cells": [
  {
   "cell_type": "code",
   "execution_count": 15,
   "id": "61a02c2d-62fd-4dc9-955d-4b8bc134554f",
   "metadata": {},
   "outputs": [],
   "source": [
    "import numpy as np"
   ]
  },
  {
   "cell_type": "code",
   "execution_count": 5,
   "id": "b3308f65-f1c2-4d1f-8905-671dcbd5518f",
   "metadata": {},
   "outputs": [
    {
     "name": "stdout",
     "output_type": "stream",
     "text": [
      "Среднее значение: 34.00\n",
      "Стандартное отклонение популяции: 18.58\n"
     ]
    }
   ],
   "source": [
    "data = [6, 8, 11, 11, 17, 21, 34, 35, 41, 42, 43, 46, 54, 54, 59, 62]\n",
    "\n",
    "m_value = np.mean(data)\n",
    "\n",
    "std_population = np.std(data)\n",
    "\n",
    "print(f\"Среднее значение: {m_value:.2f}\")\n",
    "print(f\"Стандартное отклонение популяции: {std_population:.2f}\")\n"
   ]
  },
  {
   "cell_type": "code",
   "execution_count": 27,
   "id": "74eed24e-4899-41de-a975-0f5264889be1",
   "metadata": {},
   "outputs": [],
   "source": [
    "from scipy.stats import norm"
   ]
  },
  {
   "cell_type": "code",
   "execution_count": 9,
   "id": "e58bb8b0-4341-40a6-8de1-3517c12ba9ed",
   "metadata": {},
   "outputs": [
    {
     "name": "stdout",
     "output_type": "stream",
     "text": [
      "Вероятность, что синих драже будет больше 40%: 0.0486\n"
     ]
    }
   ],
   "source": [
    "mu = 17 * 0.24  \n",
    "sigma = (17 * 0.24 * 0.76) ** 0.5  \n",
    "z = (7 - mu) / sigma  \n",
    "\n",
    "p_more_than_6 = norm.sf(z)\n",
    "\n",
    "print(f\"Вероятность, что синих драже будет больше 40%: {p_more_than_6:.4f}\")"
   ]
  },
  {
   "cell_type": "code",
   "execution_count": 17,
   "id": "588fb737-bbb5-46d9-9f69-67efb12001bc",
   "metadata": {},
   "outputs": [
    {
     "name": "stdout",
     "output_type": "stream",
     "text": [
      "90% доверительный интервал (метод Z-распределения): (79.07, 88.93)\n"
     ]
    }
   ],
   "source": [
    "m_sample = 84 \n",
    "std_sample = 24\n",
    "n = 64\n",
    "alpha = 0.10\n",
    "\n",
    "z_critical = norm.ppf(1 - alpha / 2)\n",
    "\n",
    "se = std_sample / (n ** 0.5)\n",
    "\n",
    "lower_bound = m_sample - z_critical * se\n",
    "upper_bound = m_sample + z_critical * se\n",
    "\n",
    "print(f\"90% доверительный интервал (метод Z-распределения): ({lower_bound:.2f}, {upper_bound:.2f})\")"
   ]
  },
  {
   "cell_type": "code",
   "execution_count": 21,
   "id": "6d67c080-a669-4701-a53b-cb6a4d11a9fb",
   "metadata": {},
   "outputs": [
    {
     "name": "stdout",
     "output_type": "stream",
     "text": [
      "95% доверительный интервал для доли: (0.3682, 0.3918)\n"
     ]
    }
   ],
   "source": [
    "p = 0.38\n",
    "n = 6522\n",
    "alpha = 0.05  \n",
    "\n",
    "z_critical = norm.ppf(1 - alpha / 2)\n",
    "\n",
    "se = (p * (1 - p) / n) ** 0.5\n",
    "\n",
    "lower_bound = p - z_critical * se\n",
    "upper_bound = p + z_critical * se\n",
    "\n",
    "print(f\"95% доверительный интервал для доли: ({lower_bound:.4f}, {upper_bound:.4f})\")"
   ]
  },
  {
   "cell_type": "code",
   "execution_count": 29,
   "id": "c452ab6b-75bd-46f2-a30e-0d432fa4e628",
   "metadata": {},
   "outputs": [],
   "source": [
    "import scipy.stats as stats"
   ]
  },
  {
   "cell_type": "code",
   "execution_count": 31,
   "id": "aa4f90f9-d2f9-4405-9159-8d877cc50bbf",
   "metadata": {},
   "outputs": [
    {
     "name": "stdout",
     "output_type": "stream",
     "text": [
      "t-статистика: 1.40\n",
      "P-value: 0.1679\n",
      "Нет оснований отвергать\n"
     ]
    }
   ],
   "source": [
    "sample_mean = 164\n",
    "population_mean = 160\n",
    "std_dev = 20\n",
    "sample_size = 49\n",
    "\n",
    "t_stat = (sample_mean - population_mean) / (std_dev / (sample_size ** 0.5))\n",
    "\n",
    "p_value = 2 * (1 - stats.t.cdf(abs(t_stat), df=sample_size-1))\n",
    "\n",
    "print(f\"t-статистика: {t_stat:.2f}\")\n",
    "print(f\"P-value: {p_value:.4f}\")\n",
    "\n",
    "if p_value < 0.05:\n",
    "    print(\"Отвергаем нулевую гипотезу\")\n",
    "else:\n",
    "    print(\"Нет оснований отвергать\")"
   ]
  },
  {
   "cell_type": "code",
   "execution_count": null,
   "id": "c1ac2a56-e0ea-4b35-be05-902ee8144a37",
   "metadata": {},
   "outputs": [],
   "source": []
  },
  {
   "cell_type": "code",
   "execution_count": null,
   "id": "bab7066a-d9bc-4fc7-9570-05b4820a64c5",
   "metadata": {},
   "outputs": [],
   "source": []
  }
 ],
 "metadata": {
  "kernelspec": {
   "display_name": "Python 3 (ipykernel)",
   "language": "python",
   "name": "python3"
  },
  "language_info": {
   "codemirror_mode": {
    "name": "ipython",
    "version": 3
   },
   "file_extension": ".py",
   "mimetype": "text/x-python",
   "name": "python",
   "nbconvert_exporter": "python",
   "pygments_lexer": "ipython3",
   "version": "3.12.7"
  }
 },
 "nbformat": 4,
 "nbformat_minor": 5
}
