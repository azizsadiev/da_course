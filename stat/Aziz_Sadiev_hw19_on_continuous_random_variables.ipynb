{
 "cells": [
  {
   "cell_type": "code",
   "execution_count": 1,
   "id": "d1dd33e5-bb64-45dd-b2eb-a3f270bbe02e",
   "metadata": {},
   "outputs": [],
   "source": [
    "from scipy.stats import norm"
   ]
  },
  {
   "cell_type": "code",
   "execution_count": 2,
   "id": "c52ca6c8-26e6-4eef-8e1b-2e8b49db8a8d",
   "metadata": {},
   "outputs": [
    {
     "name": "stdout",
     "output_type": "stream",
     "text": [
      "0.8979576849251809\n"
     ]
    }
   ],
   "source": [
    "print(norm.cdf(1.27))"
   ]
  },
  {
   "cell_type": "code",
   "execution_count": 3,
   "id": "da5e503a-23b6-4393-adfe-abf09e319fc5",
   "metadata": {},
   "outputs": [
    {
     "name": "stdout",
     "output_type": "stream",
     "text": [
      "0.07781929273562609\n"
     ]
    }
   ],
   "source": [
    "probability = norm.cdf(-1.19) - norm.cdf(-1.76)\n",
    "\n",
    "print(probability)"
   ]
  },
  {
   "cell_type": "code",
   "execution_count": 4,
   "id": "bcb6f8f1-d4bc-4a2b-8e70-d50ba42f1232",
   "metadata": {},
   "outputs": [
    {
     "name": "stdout",
     "output_type": "stream",
     "text": [
      "Среднее значение (μ): 45.0 кг\n",
      "Стандартное отклонение (σ): -3.5 кг\n"
     ]
    }
   ],
   "source": [
    "a = 38\n",
    "b = 52\n",
    "\n",
    "\n",
    "mu = (a + b) / 2\n",
    "sigma = (a - mu) / 2\n",
    "\n",
    "print(f\"Среднее значение (μ): {mu} кг\")\n",
    "print(f\"Стандартное отклонение (σ): {sigma} кг\")\n"
   ]
  },
  {
   "cell_type": "code",
   "execution_count": 5,
   "id": "b1d8c0c8-b697-468f-8603-e62030d2e2bc",
   "metadata": {},
   "outputs": [
    {
     "name": "stdout",
     "output_type": "stream",
     "text": [
      "Вероятность что длина указательного пальца будет в диапазоне от 7.3 см до 8.7 см: 0.6472\n"
     ]
    }
   ],
   "source": [
    "mu = 7.5\n",
    "sigma = 0.5\n",
    "\n",
    "a = 7.3\n",
    "b = 8.7 \n",
    "\n",
    "low = (a - mu) / sigma\n",
    "u = (b - mu) / sigma\n",
    "\n",
    "probability = norm.cdf(u) - norm.cdf(low)\n",
    "\n",
    "print(f\"Вероятность что длина указательного пальца будет в диапазоне от {a} см до {b} см: {probability:.4f}\")\n"
   ]
  },
  {
   "cell_type": "code",
   "execution_count": 10,
   "id": "f9512bcb-c35d-4615-b30e-51baa582f4d2",
   "metadata": {},
   "outputs": [
    {
     "name": "stdout",
     "output_type": "stream",
     "text": [
      "Вероятность того, что IQ человека будет выше 140: 0.003830\n"
     ]
    }
   ],
   "source": [
    "mu = 100\n",
    "sigma = 15\n",
    "iq = 140\n",
    "\n",
    "z = (iq - mu) / sigma\n",
    "\n",
    "probability = 1 - norm.cdf(z)\n",
    "\n",
    "\n",
    "print(f\"Вероятность того, что IQ человека будет выше {iq}: {probability:.6f}\")"
   ]
  },
  {
   "cell_type": "code",
   "execution_count": null,
   "id": "d6f995b7-dee6-4b51-b545-28b015065394",
   "metadata": {},
   "outputs": [],
   "source": []
  },
  {
   "cell_type": "code",
   "execution_count": null,
   "id": "1deef74a-0164-44e5-8512-7c17b3e52d64",
   "metadata": {},
   "outputs": [],
   "source": []
  },
  {
   "cell_type": "code",
   "execution_count": null,
   "id": "0439127b-aba3-425c-aeae-1deffda730c5",
   "metadata": {},
   "outputs": [],
   "source": []
  },
  {
   "cell_type": "code",
   "execution_count": null,
   "id": "5afb270e-748e-45d0-bb93-7fc371ef5e33",
   "metadata": {},
   "outputs": [],
   "source": []
  }
 ],
 "metadata": {
  "kernelspec": {
   "display_name": "Python 3 (ipykernel)",
   "language": "python",
   "name": "python3"
  },
  "language_info": {
   "codemirror_mode": {
    "name": "ipython",
    "version": 3
   },
   "file_extension": ".py",
   "mimetype": "text/x-python",
   "name": "python",
   "nbconvert_exporter": "python",
   "pygments_lexer": "ipython3",
   "version": "3.12.7"
  }
 },
 "nbformat": 4,
 "nbformat_minor": 5
}
