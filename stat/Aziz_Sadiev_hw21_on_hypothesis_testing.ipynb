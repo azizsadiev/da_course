{
 "cells": [
  {
   "cell_type": "code",
   "execution_count": 1,
   "id": "8d93132c-ea57-46c7-ad1e-8505d371ba83",
   "metadata": {},
   "outputs": [],
   "source": [
    "import scipy.stats as stats"
   ]
  },
  {
   "cell_type": "code",
   "execution_count": 3,
   "id": "c9a0ff2e-9d40-4c64-b03e-41769f550d2b",
   "metadata": {},
   "outputs": [
    {
     "name": "stdout",
     "output_type": "stream",
     "text": [
      "t-статистика: -2.14\n",
      "P-value: 0.0186\n",
      "Отвергаем нулевую гипотезу: срок службы лампочек меньше заявленного\n"
     ]
    }
   ],
   "source": [
    "claimed_mean = 2000\n",
    "sample_mean = 1980\n",
    "std_dev = 66\n",
    "sample_size = 50\n",
    "\n",
    "t_stat = (sample_mean - claimed_mean) / (std_dev / (sample_size ** 0.5))\n",
    "\n",
    "p_value = stats.t.cdf(t_stat, df=sample_size - 1)\n",
    "\n",
    "print(f\"t-статистика: {t_stat:.2f}\")\n",
    "print(f\"P-value: {p_value:.4f}\")\n",
    "\n",
    "if p_value < 0.05:\n",
    "    print(\"Отвергаем нулевую гипотезу: срок службы лампочек меньше заявленного\")\n",
    "else:\n",
    "    print(\"Нет оснований отвергать нулевую гипотезу: недостаточно доказательств, что срок службы меньше заявленного\")"
   ]
  },
  {
   "cell_type": "code",
   "execution_count": 9,
   "id": "3889a4fc-55a1-47a6-aef6-2433c1d57009",
   "metadata": {},
   "outputs": [
    {
     "name": "stdout",
     "output_type": "stream",
     "text": [
      "Z-статистика: 6.00\n",
      "P-value: 0.0000\n",
      "Отвергаем нулевую гипотезу\n"
     ]
    }
   ],
   "source": [
    "claimed_mean = 1000\n",
    "sample_mean = 1003\n",
    "std_dev = 5\n",
    "sample_size = 100\n",
    "\n",
    "z_stat = (sample_mean - claimed_mean) / (std_dev / (sample_size ** 0.5))\n",
    "\n",
    "p_value = 1 - stats.norm.cdf(z_stat)\n",
    "\n",
    "print(f\"Z-статистика: {z_stat:.2f}\")\n",
    "print(f\"P-value: {p_value:.4f}\")\n",
    "\n",
    "if p_value < 0.05:\n",
    "    print(\"Отвергаем нулевую гипотезу\")\n",
    "else:\n",
    "    print(\"Не отвергаем нулевую гипотезу\")"
   ]
  },
  {
   "cell_type": "code",
   "execution_count": 13,
   "id": "2e17e268-5623-4dd1-a377-d81711ac2b58",
   "metadata": {},
   "outputs": [
    {
     "name": "stdout",
     "output_type": "stream",
     "text": [
      "T-статистика: 3.16\n",
      "P-value: 0.0015\n",
      "Отвергаем нулевую гипотезу\n"
     ]
    }
   ],
   "source": [
    "claimed_mean = 15.7\n",
    "sample_mean = 16.5\n",
    "std_dev = 1.6  \n",
    "sample_size = 40     \n",
    "alpha = 0.05       \n",
    "\n",
    "t_stat = (sample_mean - claimed_mean) / (std_dev / (sample_size ** 0.5))\n",
    "\n",
    "p_value = 1 - stats.t.cdf(t_stat, df=sample_size - 1)\n",
    "\n",
    "print(f\"T-статистика: {t_stat:.2f}\")\n",
    "print(f\"P-value: {p_value:.4f}\")\n",
    "\n",
    "if p_value < alpha:\n",
    "    print(\"Отвергаем нулевую гипотезу\")\n",
    "else:\n",
    "    print(\"Не отвергаем нулевую гипотезу\")"
   ]
  },
  {
   "cell_type": "code",
   "execution_count": 11,
   "id": "6c56c260-8525-4cbc-a828-0d47bd3d7ed4",
   "metadata": {},
   "outputs": [
    {
     "name": "stdout",
     "output_type": "stream",
     "text": [
      "Z-статистика: -1.71\n",
      "P-value: 0.0435\n",
      "Отвергаем нулевую гипотезу\n"
     ]
    }
   ],
   "source": [
    "claimed_mean = 3.40\n",
    "sample_mean = 3.29\n",
    "std_dev = 0.45\n",
    "sample_size = 49\n",
    "alpha = 0.05\n",
    "\n",
    "z_stat = (sample_mean - claimed_mean) / (std_dev / (sample_size ** 0.5))\n",
    "\n",
    "p_value = stats.norm.cdf(z_stat)\n",
    "\n",
    "print(f\"Z-статистика: {z_stat:.2f}\")\n",
    "print(f\"P-value: {p_value:.4f}\")\n",
    "\n",
    "if p_value < alpha:\n",
    "    print(\"Отвергаем нулевую гипотезу\")\n",
    "else:\n",
    "    print(\"Не отвергаем нулевую гипотезу\")"
   ]
  },
  {
   "cell_type": "code",
   "execution_count": null,
   "id": "31753541-3170-4450-9b0f-fdac373b00e1",
   "metadata": {},
   "outputs": [],
   "source": []
  }
 ],
 "metadata": {
  "kernelspec": {
   "display_name": "Python 3 (ipykernel)",
   "language": "python",
   "name": "python3"
  },
  "language_info": {
   "codemirror_mode": {
    "name": "ipython",
    "version": 3
   },
   "file_extension": ".py",
   "mimetype": "text/x-python",
   "name": "python",
   "nbconvert_exporter": "python",
   "pygments_lexer": "ipython3",
   "version": "3.12.7"
  }
 },
 "nbformat": 4,
 "nbformat_minor": 5
}
