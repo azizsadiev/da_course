{
 "cells": [
  {
   "cell_type": "markdown",
   "id": "2294f665-e324-4a05-8da3-c7424a29eaf5",
   "metadata": {},
   "source": [
    "Aziz Sadiev Home Work - #16"
   ]
  },
  {
   "cell_type": "code",
   "execution_count": 7,
   "id": "b93dfd0f-30bd-44a3-80f8-4433e58bda0b",
   "metadata": {},
   "outputs": [
    {
     "name": "stdout",
     "output_type": "stream",
     "text": [
      "Макс должен перебрать 100000 вариантов паролей.\n"
     ]
    }
   ],
   "source": [
    "num_values = 10\n",
    "\n",
    "password_len = 5\n",
    "\n",
    "total_passwords = num_values ** password_len\n",
    "\n",
    "print(f\"Макс должен перебрать {total_passwords} вариантов паролей.\")"
   ]
  },
  {
   "cell_type": "code",
   "execution_count": 39,
   "id": "ea59ea36-dd32-492c-83aa-f104e48f1e8e",
   "metadata": {},
   "outputs": [
    {
     "name": "stdout",
     "output_type": "stream",
     "text": [
      "Малика может расставить книги на полке 5040 способами\n"
     ]
    }
   ],
   "source": [
    "#Задание 2 - Malika's books\n",
    "print('Малика может расставить книги на полке', math.factorial(7), 'способами')"
   ]
  },
  {
   "cell_type": "code",
   "execution_count": 45,
   "id": "3856d260-2e3a-4711-8e36-cd5395b67849",
   "metadata": {},
   "outputs": [
    {
     "name": "stdout",
     "output_type": "stream",
     "text": [
      "Количество линий, которые можно провести между 9 точками: 36\n"
     ]
    }
   ],
   "source": [
    "dots = 9\n",
    "a = 2\n",
    "\n",
    "lines = dots * (dots - 1) // 2  \n",
    "print(f\"Количество линий, которые можно провести между {dots} точками: {lines}\")"
   ]
  },
  {
   "cell_type": "code",
   "execution_count": 47,
   "id": "3f3d97aa-24f3-4505-8a28-71c46f6b07b0",
   "metadata": {},
   "outputs": [
    {
     "name": "stdout",
     "output_type": "stream",
     "text": [
      "Всего вариантов билетов: 342\n"
     ]
    }
   ],
   "source": [
    "stations = 19\n",
    "\n",
    "tickets = stations * (stations - 1)\n",
    "\n",
    "print(f\"Всего вариантов билетов: {tickets}\")"
   ]
  },
  {
   "cell_type": "code",
   "execution_count": 63,
   "id": "fa6df56d-a705-4377-bde4-e32039667a8d",
   "metadata": {},
   "outputs": [],
   "source": [
    "import math"
   ]
  },
  {
   "cell_type": "code",
   "execution_count": 69,
   "id": "00b9a36e-e73b-4285-a008-ffe7f2e45a33",
   "metadata": {},
   "outputs": [
    {
     "name": "stdout",
     "output_type": "stream",
     "text": [
      "Вероятность, что вы поедете на конференцию: 0.230769\n"
     ]
    }
   ],
   "source": [
    "num_people = 13\n",
    "chosen_people = 3\n",
    "\n",
    "total_combinations = math.comb(num_people, chosen_people)\n",
    "\n",
    "comb_with_me = math.comb(num_people - 1, chosen_people - 1)\n",
    "\n",
    "# Вероятность\n",
    "probability = combinations_with_you / total_combinations\n",
    "print(f\"Вероятность, что вы поедете на конференцию: {probability:.4f}\")"
   ]
  },
  {
   "cell_type": "code",
   "execution_count": null,
   "id": "54646e2c-c714-437d-9b34-3412a3e06ce1",
   "metadata": {},
   "outputs": [],
   "source": []
  }
 ],
 "metadata": {
  "kernelspec": {
   "display_name": "Python 3 (ipykernel)",
   "language": "python",
   "name": "python3"
  },
  "language_info": {
   "codemirror_mode": {
    "name": "ipython",
    "version": 3
   },
   "file_extension": ".py",
   "mimetype": "text/x-python",
   "name": "python",
   "nbconvert_exporter": "python",
   "pygments_lexer": "ipython3",
   "version": "3.12.7"
  }
 },
 "nbformat": 4,
 "nbformat_minor": 5
}
