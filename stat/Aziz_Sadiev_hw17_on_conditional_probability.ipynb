{
 "cells": [
  {
   "cell_type": "code",
   "execution_count": 2,
   "id": "ba372a61-2f60-460e-8f12-4044fb917a08",
   "metadata": {},
   "outputs": [
    {
     "name": "stdout",
     "output_type": "stream",
     "text": [
      "Вероятность вытащить два туза: 0.0045\n"
     ]
    }
   ],
   "source": [
    "total_cards = 52\n",
    "total_aces = 4\n",
    "\n",
    "probability = (total_aces / total_cards) * ((total_aces - 1) / (total_cards - 1))\n",
    "\n",
    "print(f\"Вероятность вытащить два туза: {probability:.4f}\")"
   ]
  },
  {
   "cell_type": "code",
   "execution_count": 4,
   "id": "2e29094b-451a-4514-95bc-63901fed49be",
   "metadata": {},
   "outputs": [
    {
     "name": "stdout",
     "output_type": "stream",
     "text": [
      "Общая вероятность опоздать: 0.58\n"
     ]
    }
   ],
   "source": [
    "late = 4 / 5 \n",
    "on_time = 1 / 5\n",
    "\n",
    "late_to_work_if_late = 0.7\n",
    "late_to_work_if_on_time = 0.1\n",
    "\n",
    "late_to_work = late * late_to_work_if_late + on_time * late_to_work_if_on_time\n",
    "\n",
    "print(f\"Общая вероятность опоздать: {late_to_work:.2f}\")"
   ]
  },
  {
   "cell_type": "code",
   "execution_count": 6,
   "id": "ba2fecaa-08ff-4eab-8b70-5a15b76ba067",
   "metadata": {},
   "outputs": [
    {
     "name": "stdout",
     "output_type": "stream",
     "text": [
      "Вероятность вытащить зелёный и красный шары в любом порядке: 0.30\n"
     ]
    }
   ],
   "source": [
    "white = 3\n",
    "green = 4\n",
    "red = 5\n",
    "total = white + green + red \n",
    "\n",
    "green_and_red = (green / total) * (red / (total - 1))\n",
    "\n",
    "red_and_green = (red / total) * (green / (total - 1))\n",
    "\n",
    "other_order = green_and_red + red_and_green\n",
    "\n",
    "print(f\"Вероятность вытащить зелёный и красный шары в любом порядке: {other_order:.2f}\")"
   ]
  },
  {
   "cell_type": "code",
   "execution_count": 10,
   "id": "2789d3db-f473-4fcb-960c-fe73320baa17",
   "metadata": {},
   "outputs": [
    {
     "name": "stdout",
     "output_type": "stream",
     "text": [
      "Вероятность того, что чипсы действительно не содержат добавок: 0.6655\n"
     ]
    }
   ],
   "source": [
    "A = 0.02  \n",
    "not_A = 0.98\n",
    "B_given_A = 0.975  \n",
    "B_given_not_A = 0.01\n",
    "\n",
    "B = (B_given_A * A) + (B_given_not_A * not_A)\n",
    "\n",
    "A_given_B = (B_given_A * A) / B\n",
    "\n",
    "print(f\"Вероятность того, что чипсы действительно не содержат добавок: {A_given_B:.4f}\")"
   ]
  },
  {
   "cell_type": "code",
   "execution_count": null,
   "id": "3a4a3b25-6f99-4a83-aab9-6e136e79fe56",
   "metadata": {},
   "outputs": [],
   "source": [
    "A = 0.03  # Вероятность перегрева двигателя\n",
    "not_A = 0.97  # Вероятность отсутствия перегрева\n",
    "B_given_A = 0.98  # Вероятность включения индикатора при перегреве\n",
    "B_given_not_A = 0.01  # Вероятность включения индикатора без перегрева\n",
    "\n",
    "B = (P_B_given_A * P_A) + (P_B_given_not_A * P_not_A)\n",
    "print(f\"Вероятность включения индикатора: {P_B:.4f}\")\n",
    "\n",
    "# 2. Вероятность перегрева двигателя при включённом индикаторе\n",
    "P_A_given_B = (P_B_given_A * P_A) / P_B\n",
    "print(f\"Вероятность перегрева двигателя при включённом индикаторе: {P_A_given_B:.4f}\")"
   ]
  }
 ],
 "metadata": {
  "kernelspec": {
   "display_name": "Python 3 (ipykernel)",
   "language": "python",
   "name": "python3"
  },
  "language_info": {
   "codemirror_mode": {
    "name": "ipython",
    "version": 3
   },
   "file_extension": ".py",
   "mimetype": "text/x-python",
   "name": "python",
   "nbconvert_exporter": "python",
   "pygments_lexer": "ipython3",
   "version": "3.12.7"
  }
 },
 "nbformat": 4,
 "nbformat_minor": 5
}
