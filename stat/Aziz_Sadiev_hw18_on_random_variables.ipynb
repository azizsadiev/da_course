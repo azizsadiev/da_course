{
 "cells": [
  {
   "cell_type": "code",
   "execution_count": 2,
   "id": "88a121dd-098d-4915-a061-6a77b8b5916a",
   "metadata": {},
   "outputs": [
    {
     "name": "stdout",
     "output_type": "stream",
     "text": [
      "Вероятность того, что X = 2: 0.375\n"
     ]
    }
   ],
   "source": [
    "from math import comb"
   ]
  },
  {
   "cell_type": "code",
   "execution_count": 4,
   "id": "678652b8-abf6-4f29-9a28-9512d5f5039b",
   "metadata": {},
   "outputs": [
    {
     "name": "stdout",
     "output_type": "stream",
     "text": [
      "Вероятность того, что X = 2: 0.375\n"
     ]
    }
   ],
   "source": [
    "#Задание 1\n",
    "n = 4  \n",
    "k = 2  \n",
    "p = 0.5  \n",
    "\n",
    "P_X_2 = comb(n, k) * (p**k) * ((1 - p)**(n - k))\n",
    "\n",
    "print(f\"Вероятность того, что X = 2: {P_X_2:.3f}\")"
   ]
  },
  {
   "cell_type": "code",
   "execution_count": 6,
   "id": "b5073bd6-5b86-483e-8fe6-bae6b3741d9a",
   "metadata": {},
   "outputs": [
    {
     "name": "stdout",
     "output_type": "stream",
     "text": [
      "Вероятность того, что X ≥ 1: 0.938\n"
     ]
    }
   ],
   "source": [
    "#Задание 2\n",
    "n = 4\n",
    "p = 0.5  \n",
    "\n",
    "\n",
    "P_X_0 = comb(n, 0) * (p**0) * ((1 - p)**n)\n",
    "\n",
    "\n",
    "P_X_ge_1 = 1 - P_X_0\n",
    "\n",
    "print(f\"Вероятность того, что X ≥ 1: {P_X_ge_1:.3f}\")\n"
   ]
  },
  {
   "cell_type": "code",
   "execution_count": 8,
   "id": "5e45ef41-ee52-438d-91ca-bac3e70b47a4",
   "metadata": {},
   "outputs": [
    {
     "name": "stdout",
     "output_type": "stream",
     "text": [
      "P(X = 0) = 0.1296\n",
      "P(X = 1) = 0.3456\n",
      "P(X = 2) = 0.3456\n",
      "P(X = 3) = 0.1536\n",
      "P(X = 4) = 0.0256\n"
     ]
    }
   ],
   "source": [
    "# Задание 3\n",
    "\n",
    "n = 4\n",
    "p = 0.4\n",
    "\n",
    "b_distribution = {k: comb(n, k) * (p ** k) * ((1 - p) ** (n - k)) \n",
    "                  for k in range(n + 1)}\n",
    "\n",
    "for k, prob in b_distribution.items():\n",
    "    print(f\"P(X = {k}) = {prob:.4f}\")"
   ]
  },
  {
   "cell_type": "code",
   "execution_count": 24,
   "id": "7a2cfd0c-afed-4fa4-92d7-d64922516d21",
   "metadata": {},
   "outputs": [
    {
     "name": "stdout",
     "output_type": "stream",
     "text": [
      "Вероятность того, что произойдет 8 продаж: 0.1126\n"
     ]
    }
   ],
   "source": [
    "# Задание 4\n",
    "lambda_rate = 10  \n",
    "k = 8  # Искомое количество продаж\n",
    "\n",
    "p_prob = (lambda_rate ** k) * exp(-lambda_rate) / factorial(k)\n",
    "\n",
    "print(f\"Вероятность того, что произойдет {k} продаж: {poisson_prob:.4f}\")"
   ]
  },
  {
   "cell_type": "code",
   "execution_count": 28,
   "id": "cb9474e8-2a75-44b1-a63b-3d923eac9153",
   "metadata": {},
   "outputs": [
    {
     "name": "stdout",
     "output_type": "stream",
     "text": [
      "Вероятность, что игрок попадет ровно 10 раз: 0.0639\n"
     ]
    }
   ],
   "source": [
    "# Задание 5\n",
    "\n",
    "n = 12  \n",
    "p = 0.6 \n",
    "k = 10  \n",
    "\n",
    "\n",
    "probability = comb(n, k) * (p ** k) * ((1 - p) ** (n - k))\n",
    "\n",
    "print(f\"Вероятность, что игрок попадет ровно 10 раз: {probability:.4f}\")"
   ]
  },
  {
   "cell_type": "code",
   "execution_count": null,
   "id": "d73bd7e5-8813-4001-93af-0052145d0652",
   "metadata": {},
   "outputs": [],
   "source": []
  }
 ],
 "metadata": {
  "kernelspec": {
   "display_name": "Python 3 (ipykernel)",
   "language": "python",
   "name": "python3"
  },
  "language_info": {
   "codemirror_mode": {
    "name": "ipython",
    "version": 3
   },
   "file_extension": ".py",
   "mimetype": "text/x-python",
   "name": "python",
   "nbconvert_exporter": "python",
   "pygments_lexer": "ipython3",
   "version": "3.12.7"
  }
 },
 "nbformat": 4,
 "nbformat_minor": 5
}
